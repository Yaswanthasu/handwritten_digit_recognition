{
 "cells": [
  {
   "cell_type": "code",
   "execution_count": 1,
   "id": "95e248ed-5d6d-4a2c-9723-0589e1920d37",
   "metadata": {},
   "outputs": [
    {
     "name": "stderr",
     "output_type": "stream",
     "text": [
      "Matplotlib is building the font cache; this may take a moment.\n"
     ]
    },
    {
     "name": "stdout",
     "output_type": "stream",
     "text": [
      "TensorFlow version: 2.12.0\n"
     ]
    }
   ],
   "source": [
    "# Step 1: Import required libraries\n",
    "import tensorflow as tf\n",
    "from tensorflow.keras.datasets import mnist\n",
    "from tensorflow.keras.models import Sequential\n",
    "from tensorflow.keras.layers import Dense, Flatten, Conv2D, MaxPooling2D\n",
    "from tensorflow.keras.utils import to_categorical\n",
    "import matplotlib.pyplot as plt\n",
    "import numpy as np\n",
    "\n",
    "print(\"TensorFlow version:\", tf.__version__)\n"
   ]
  },
  {
   "cell_type": "code",
   "execution_count": 2,
   "id": "589948d0-9723-4439-a6b2-4dd0f2451230",
   "metadata": {},
   "outputs": [
    {
     "name": "stdout",
     "output_type": "stream",
     "text": [
      "Downloading data from https://storage.googleapis.com/tensorflow/tf-keras-datasets/mnist.npz\n",
      "11490434/11490434 [==============================] - 4s 0us/step\n",
      "x_train: (60000, 28, 28, 1)\n",
      "y_train: (60000, 10)\n"
     ]
    }
   ],
   "source": [
    "# Step 2: Load and preprocess the MNIST dataset\n",
    "\n",
    "# Load dataset\n",
    "(x_train, y_train), (x_test, y_test) = mnist.load_data()\n",
    "\n",
    "# Normalize pixel values to 0-1\n",
    "x_train = x_train.astype('float32') / 255.0\n",
    "x_test = x_test.astype('float32') / 255.0\n",
    "\n",
    "# Reshape for CNN input (samples, height, width, channels)\n",
    "x_train = x_train.reshape(-1, 28, 28, 1)\n",
    "x_test = x_test.reshape(-1, 28, 28, 1)\n",
    "\n",
    "# One-hot encode labels\n",
    "y_train = to_categorical(y_train)\n",
    "y_test = to_categorical(y_test)\n",
    "\n",
    "# Check shapes\n",
    "print(\"x_train:\", x_train.shape)\n",
    "print(\"y_train:\", y_train.shape)\n"
   ]
  },
  {
   "cell_type": "code",
   "execution_count": 3,
   "id": "c9d77cd7-1063-44a2-baf8-4bd669f35e1d",
   "metadata": {},
   "outputs": [
    {
     "name": "stdout",
     "output_type": "stream",
     "text": [
      "Model: \"sequential\"\n",
      "_________________________________________________________________\n",
      " Layer (type)                Output Shape              Param #   \n",
      "=================================================================\n",
      " conv2d (Conv2D)             (None, 26, 26, 32)        320       \n",
      "                                                                 \n",
      " max_pooling2d (MaxPooling2D  (None, 13, 13, 32)       0         \n",
      " )                                                               \n",
      "                                                                 \n",
      " conv2d_1 (Conv2D)           (None, 11, 11, 64)        18496     \n",
      "                                                                 \n",
      " max_pooling2d_1 (MaxPooling  (None, 5, 5, 64)         0         \n",
      " 2D)                                                             \n",
      "                                                                 \n",
      " flatten (Flatten)           (None, 1600)              0         \n",
      "                                                                 \n",
      " dense (Dense)               (None, 128)               204928    \n",
      "                                                                 \n",
      " dense_1 (Dense)             (None, 10)                1290      \n",
      "                                                                 \n",
      "=================================================================\n",
      "Total params: 225,034\n",
      "Trainable params: 225,034\n",
      "Non-trainable params: 0\n",
      "_________________________________________________________________\n"
     ]
    }
   ],
   "source": [
    "# Step 3: Build a Convolutional Neural Network (CNN)\n",
    "\n",
    "model = Sequential([\n",
    "    Conv2D(32, (3,3), activation='relu', input_shape=(28,28,1)),\n",
    "    MaxPooling2D((2,2)),\n",
    "    Conv2D(64, (3,3), activation='relu'),\n",
    "    MaxPooling2D((2,2)),\n",
    "    Flatten(),\n",
    "    Dense(128, activation='relu'),\n",
    "    Dense(10, activation='softmax')\n",
    "])\n",
    "\n",
    "model.compile(optimizer='adam', loss='categorical_crossentropy', metrics=['accuracy'])\n",
    "model.summary()\n"
   ]
  },
  {
   "cell_type": "code",
   "execution_count": 4,
   "id": "a00fb741-947c-4797-ac52-8a93f42e55f8",
   "metadata": {},
   "outputs": [
    {
     "name": "stdout",
     "output_type": "stream",
     "text": [
      "Epoch 1/5\n",
      "422/422 [==============================] - 41s 93ms/step - loss: 0.2238 - accuracy: 0.9354 - val_loss: 0.0710 - val_accuracy: 0.9795\n",
      "Epoch 2/5\n",
      "422/422 [==============================] - 45s 106ms/step - loss: 0.0588 - accuracy: 0.9824 - val_loss: 0.0516 - val_accuracy: 0.9867\n",
      "Epoch 3/5\n",
      "422/422 [==============================] - 43s 102ms/step - loss: 0.0421 - accuracy: 0.9867 - val_loss: 0.0391 - val_accuracy: 0.9880\n",
      "Epoch 4/5\n",
      "422/422 [==============================] - 44s 105ms/step - loss: 0.0330 - accuracy: 0.9894 - val_loss: 0.0350 - val_accuracy: 0.9892\n",
      "Epoch 5/5\n",
      "422/422 [==============================] - 44s 103ms/step - loss: 0.0254 - accuracy: 0.9919 - val_loss: 0.0392 - val_accuracy: 0.9893\n"
     ]
    }
   ],
   "source": [
    "# Step 4: Train the model\n",
    "\n",
    "history = model.fit(\n",
    "    x_train, y_train,\n",
    "    epochs=5,\n",
    "    batch_size=128,\n",
    "    validation_split=0.1\n",
    ")\n"
   ]
  },
  {
   "cell_type": "code",
   "execution_count": 5,
   "id": "bbab4fec-9b64-44f8-bf58-2a0223c4bff8",
   "metadata": {},
   "outputs": [
    {
     "name": "stdout",
     "output_type": "stream",
     "text": [
      "313/313 [==============================] - 3s 9ms/step - loss: 0.0360 - accuracy: 0.9884\n",
      "Test Accuracy: 98.84%\n"
     ]
    }
   ],
   "source": [
    "# Step 5: Evaluate model on test set\n",
    "\n",
    "test_loss, test_acc = model.evaluate(x_test, y_test)\n",
    "print(f\"Test Accuracy: {test_acc*100:.2f}%\")\n"
   ]
  },
  {
   "cell_type": "code",
   "execution_count": 6,
   "id": "da87bce6-2c05-41a1-b169-ec5e70c42ab6",
   "metadata": {},
   "outputs": [
    {
     "name": "stdout",
     "output_type": "stream",
     "text": [
      "313/313 [==============================] - 3s 8ms/step\n"
     ]
    },
    {
     "data": {
      "image/png": "[encoded data removed]",
      "text/plain": [
       "<Figure size 1200x600 with 10 Axes>"
      ]
     },
     "metadata": {},
     "output_type": "display_data"
    }
   ],
   "source": [
    "# Step 6: Visualize predictions\n",
    "\n",
    "predictions = model.predict(x_test)\n",
    "\n",
    "plt.figure(figsize=(12,6))\n",
    "for i in range(10):\n",
    "    plt.subplot(2,5,i+1)\n",
    "    plt.imshow(x_test[i].reshape(28,28), cmap='gray')\n",
    "    plt.title(f\"Pred: {np.argmax(predictions[i])}\")\n",
    "    plt.axis('off')\n",
    "plt.show()\n"
   ]
  },
  {
   "cell_type": "code",
   "execution_count": 14,
   "id": "8e7c7ae1-d5ad-4938-83fd-b0c04ee2ae9a",
   "metadata": {},
   "outputs": [],
   "source": [
    "from PIL import Image\n",
    "import numpy as np\n",
    "import matplotlib.pyplot as plt\n",
    "\n",
    "def predict_digit(image_path, model):\n",
    "    \"\"\"\n",
    "    Predict a handwritten digit from an image using a trained CNN model.\n",
    "    \n",
    "    Parameters:\n",
    "    - image_path: str, path to the image file\n",
    "    - model: trained Keras model\n",
    "    \"\"\"\n",
    "    # Load and preprocess image\n",
    "    img = Image.open(image_path).convert('L')  # Convert to grayscale\n",
    "    img = img.resize((28,28))  # Resize to MNIST size\n",
    "    img_array = np.array(img)\n",
    "    \n",
    "    # Invert colors if needed (MNIST digits are white on black)\n",
    "    if np.mean(img_array) > 127:  # if background is white\n",
    "        img_array = 255 - img_array\n",
    "    \n",
    "    # Normalize and reshape for model input\n",
    "    img_array = img_array.astype('float32') / 255.0\n",
    "    img_array = img_array.reshape(1,28,28,1)\n",
    "    \n",
    "    # Predict\n",
    "    prediction = model.predict(img_array)\n",
    "    digit = np.argmax(prediction)\n",
    "    \n",
    "    # Display image and prediction\n",
    "    plt.imshow(img_array.reshape(28,28), cmap='gray')\n",
    "    plt.title(f\"Predicted Digit: {digit}\")\n",
    "    plt.axis('off')\n",
    "    plt.show()\n",
    "    \n",
    "    return digit\n"
   ]
  },
  {
   "cell_type": "code",
   "execution_count": 15,
   "id": "c7539ef7-33b1-410e-9fc1-4961c02e822f",
   "metadata": {},
   "outputs": [
    {
     "name": "stdout",
     "output_type": "stream",
     "text": [
      "1/1 [==============================] - 0s 32ms/step\n"
     ]
    },
    {
     "data": {
      "image/png": "[encoded data removed]",
      "text/plain": [
       "<Figure size 640x480 with 1 Axes>"
      ]
     },
     "metadata": {},
     "output_type": "display_data"
    },
    {
     "name": "stdout",
     "output_type": "stream",
     "text": [
      "Predicted digit is: 4\n"
     ]
    }
   ],
   "source": [
    "predicted_digit = predict_digit(\"test_digits/Screenshot 2025-10-04 010726.png\", model)\n",
    "print(\"Predicted digit is:\", predicted_digit)"
   ]
  },
  {
   "cell_type": "code",
   "execution_count": 16,
   "id": "eb0ed7f3-f387-4776-8f9b-6edb1ab1ce71",
   "metadata": {},
   "outputs": [
    {
     "name": "stdout",
     "output_type": "stream",
     "text": [
      "1/1 [==============================] - 0s 34ms/step\n"
     ]
    },
    {
     "data": {
      "image/png": "[encoded data removed]",
      "text/plain": [
       "<Figure size 640x480 with 1 Axes>"
      ]
     },
     "metadata": {},
     "output_type": "display_data"
    },
    {
     "name": "stdout",
     "output_type": "stream",
     "text": [
      "Screenshot 2025-10-04 010615.png --> Predicted digit: 0\n",
      "\n",
      "1/1 [==============================] - 0s 39ms/step\n"
     ]
    },
    {
     "data": {
      "image/png": "[encoded data removed]",
      "text/plain": [
       "<Figure size 640x480 with 1 Axes>"
      ]
     },
     "metadata": {},
     "output_type": "display_data"
    },
    {
     "name": "stdout",
     "output_type": "stream",
     "text": [
      "Screenshot 2025-10-04 010653.png --> Predicted digit: 2\n",
      "\n",
      "1/1 [==============================] - 0s 34ms/step\n"
     ]
    },
    {
     "data": {
      "image/png": "[encoded data removed]",
      "text/plain": [
       "<Figure size 640x480 with 1 Axes>"
      ]
     },
     "metadata": {},
     "output_type": "display_data"
    },
    {
     "name": "stdout",
     "output_type": "stream",
     "text": [
      "Screenshot 2025-10-04 010726.png --> Predicted digit: 4\n",
      "\n",
      "1/1 [==============================] - 0s 31ms/step\n"
     ]
    },
    {
     "data": {
      "image/png": "[encoded data removed]",
      "text/plain": [
       "<Figure size 640x480 with 1 Axes>"
      ]
     },
     "metadata": {},
     "output_type": "display_data"
    },
    {
     "name": "stdout",
     "output_type": "stream",
     "text": [
      "Screenshot 2025-10-04 010743.png --> Predicted digit: 7\n",
      "\n"
     ]
    }
   ],
   "source": [
    "import os\n",
    "\n",
    "# Folder containing your test images\n",
    "image_folder = \"test_digits\"  # or full path like \"A:/jupyter notebook/test_digits\"\n",
    "\n",
    "# Loop through all images in the folder\n",
    "for image_file in os.listdir(image_folder):\n",
    "    if image_file.lower().endswith((\".png\", \".jpg\", \".jpeg\")):\n",
    "        image_path = os.path.join(image_folder, image_file)\n",
    "        predicted_digit = predict_digit(image_path, model)\n",
    "        print(f\"{image_file} --> Predicted digit: {predicted_digit}\\n\")\n"
   ]
  },
  {
   "cell_type": "code",
   "execution_count": null,
   "id": "645df524-506b-4366-9d99-02ceee9317b0",
   "metadata": {},
   "outputs": [],
   "source": []
  }
 ],
 "metadata": {
  "kernelspec": {
   "display_name": "Python 3 (ipykernel)",
   "language": "python",
   "name": "python3"
  },
  "language_info": {
   "codemirror_mode": {
    "name": "ipython",
    "version": 3
   },
   "file_extension": ".py",
   "mimetype": "text/x-python",
   "name": "python",
   "nbconvert_exporter": "python",
   "pygments_lexer": "ipython3",
   "version": "3.10.11"
  }
 },
 "nbformat": 4,
 "nbformat_minor": 5
}
